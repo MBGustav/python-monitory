{
 "cells": [
  {
   "cell_type": "markdown",
   "metadata": {},
   "source": [
    "## List Comprehension em Python\n",
    "\n",
    "Primeiros passos com aplicação de listas e seus usos na linguagem python"
   ]
  },
  {
   "cell_type": "markdown",
   "metadata": {},
   "source": [
    "### 1. Declaração de Listas\n",
    "Podemos inicializar uma lista em python de diversas formas, dentre elas: lista vazia e lista pré-preenchida contendo as principais informações que precisamos."
   ]
  },
  {
   "cell_type": "code",
   "execution_count": 2,
   "metadata": {},
   "outputs": [
    {
     "name": "stdout",
     "output_type": "stream",
     "text": [
      "[[1, 2, 3, 4], [5, 6, 7, 8], [9, 10, 11, 12], [13, 14, 15, 16]]\n",
      "Elemento a34:  12\n"
     ]
    }
   ],
   "source": [
    "\n",
    "#Lista pré-preenchida:\n",
    "# 1) Strings\n",
    "ListaCompras = [\"maça\", \"farinha de trigo\", \"coentro\", \"abacate\"]\n",
    "# 2) Numeros\n",
    "\n",
    "    # Caso 1: Inteiros\n",
    "ListaNumeros = [1, 52, 55, 56, 54, 60]\n",
    "\n",
    "    # Caso 2: Float\n",
    "Nota = [10.0, 9.6 , 8.5 , 6.5]\n",
    "\n",
    "# 3) Strings e Numeros\n",
    "ListaMista = [\"Gustavo\", \"Tutoria\", 10, 5, 80.5]\n",
    "\n",
    "\n",
    "# 4) Listas dentro de outras Listas - podemos criar matrizes assim\n",
    "ListaComplexa = [\"texto\", 1232837, [\"caso1\", \"caso2\", 123], \"texto_final\"]\n",
    "Matriz_A = [[ 1,  2,  3,  4],\n",
    "            [ 5,  6,  7,  8],\n",
    "            [ 9, 10, 11, 12],\n",
    "            [13, 14, 15, 16]]\n",
    "print(Matriz_A)\n",
    "print(\"Elemento a34: \", Matriz_A[2][3])"
   ]
  }
 ],
 "metadata": {
  "kernelspec": {
   "display_name": "Python 3.8.10 64-bit",
   "language": "python",
   "name": "python3"
  },
  "language_info": {
   "codemirror_mode": {
    "name": "ipython",
    "version": 3
   },
   "file_extension": ".py",
   "mimetype": "text/x-python",
   "name": "python",
   "nbconvert_exporter": "python",
   "pygments_lexer": "ipython3",
   "version": "3.8.10"
  },
  "orig_nbformat": 4,
  "vscode": {
   "interpreter": {
    "hash": "916dbcbb3f70747c44a77c7bcd40155683ae19c65e1c03b4aa3499c5328201f1"
   }
  }
 },
 "nbformat": 4,
 "nbformat_minor": 2
}
