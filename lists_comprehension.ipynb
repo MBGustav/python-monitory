{
 "cells": [
  {
   "cell_type": "markdown",
   "metadata": {},
   "source": [
    "## List Comprehension em Python\n",
    "\n",
    "Primeiros passos com aplicação de listas e seus usos na linguagem python"
   ]
  },
  {
   "cell_type": "markdown",
   "metadata": {},
   "source": [
    "### 1. Declaração de Listas\n",
    "Podemos inicializar uma lista em python de diversas formas, dentre elas: lista vazia e lista pré-preenchida contendo as principais informações que precisamos."
   ]
  },
  {
   "cell_type": "code",
   "execution_count": 4,
   "metadata": {},
   "outputs": [
    {
     "name": "stdout",
     "output_type": "stream",
     "text": [
      "Linha 2: [5, 6, 7, 8]\n",
      "Elemento a34:  12\n"
     ]
    }
   ],
   "source": [
    "\n",
    "#Lista pré-preenchida:\n",
    "# 1) Strings\n",
    "ListaCompras = [\"maça\", \"farinha de trigo\", \"coentro\", \"abacate\"]\n",
    "# 2) Numeros\n",
    "\n",
    "    # Caso 1: Inteiros\n",
    "ListaNumeros = [1, 52, 55, 56, 54, 60]\n",
    "\n",
    "    # Caso 2: Float\n",
    "Nota = [10.0, 9.6 , 8.5 , 6.5]\n",
    "\n",
    "# 3) Strings e Numeros\n",
    "ListaMista = [\"Gustavo\", \"Tutoria\", 10, 5, 80.5]\n",
    "\n",
    "# 4) Misto: String, números e outras listas\n",
    "ListaComplexa = [\"texto\", 1232837, [\"caso1\", \"caso2\", 123], \"texto_final\"]"
   ]
  },
  {
   "cell_type": "markdown",
   "metadata": {},
   "source": [
    "### 2. Exemplo de Acessos à Lista (e Caso de Matriz)"
   ]
  },
  {
   "cell_type": "code",
   "execution_count": 18,
   "metadata": {},
   "outputs": [
    {
     "name": "stdout",
     "output_type": "stream",
     "text": [
      " Exemplo - Matriz Linha 2: [5, 6, 7, 8]\tpos.: A34:  12\n",
      "Lista de Numeros:  [1024, 2048, 5068, 5864]\n",
      "Ultimo item da Lista 5864\n",
      "Primeiro e Segundo item: 1024 2048\n",
      "1024 2048 \n",
      "\n"
     ]
    }
   ],
   "source": [
    "\n",
    "# \"Cola\" para acessar os itens da matriz - considerando Row Major\n",
    "# a00 a01 a02 a03\n",
    "# a10 a11 a12 a13\n",
    "# a20 a21 a22 a23\n",
    "# a30 a31 a32 a33\n",
    "\n",
    "# 4) Matriz: Listas dentro de outras Listas\n",
    "\n",
    "Matriz_A = [[ 1,  2,  3,  4],\n",
    "            [ 5,  6,  7,  8],\n",
    "            [ 9, 10, 11, 12],\n",
    "            [13, 14, 15, 16]]\n",
    "\n",
    "print(\" Exemplo - Matriz Linha 2:\", Matriz_A[1], end='\\t')\n",
    "print(\"pos.: A34: \", Matriz_A[2][3])\n",
    "# Acessar um item da lista\n",
    "# Qual o endereco do item da lista\n",
    "Lista_numeros = [1024, 2048, 5068, 5864]\n",
    "# \"Endereco\"     [ 0]  [ 1]   [ 2]  [ 3] (TYPE A)\n",
    "# \"Endereco\"     [-4]  [-3]   [-2]  [-1] (TYPE B)\n",
    "primeiro = Lista_numeros[0]\n",
    "# primeiro = Lista_numeros[-4]\n",
    "\n",
    "segundo = Lista_numeros[1]\n",
    "segundo = Lista_numeros[-3]\n",
    "\n",
    "Ultimo_Item = Lista_numeros[-1]\n",
    "print(\"Lista de Numeros: \", Lista_numeros)\n",
    "print(\"Ultimo item da Lista\", Ultimo_Item)\n",
    "# OBS.1: nem todas a linguagens de programação aceitam indice negativo\n",
    "# OBS.2: Para bom costume, use por padrão o type A, pois é mais consolidado.\n",
    "print(\"Primeiro e Segundo item:\", primeiro, segundo)\n",
    "\n",
    "print(primeiro, segundo, '\\n')"
   ]
  }
 ],
 "metadata": {
  "kernelspec": {
   "display_name": "Python 3.8.10 64-bit",
   "language": "python",
   "name": "python3"
  },
  "language_info": {
   "codemirror_mode": {
    "name": "ipython",
    "version": 3
   },
   "file_extension": ".py",
   "mimetype": "text/x-python",
   "name": "python",
   "nbconvert_exporter": "python",
   "pygments_lexer": "ipython3",
   "version": "3.8.10"
  },
  "orig_nbformat": 4,
  "vscode": {
   "interpreter": {
    "hash": "916dbcbb3f70747c44a77c7bcd40155683ae19c65e1c03b4aa3499c5328201f1"
   }
  }
 },
 "nbformat": 4,
 "nbformat_minor": 2
}
